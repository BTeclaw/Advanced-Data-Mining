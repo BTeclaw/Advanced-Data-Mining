{
 "cells": [
  {
   "cell_type": "code",
   "execution_count": 1,
   "metadata": {},
   "outputs": [],
   "source": [
    "import numpy as np\n",
    "import pandas as pd"
   ]
  },
  {
   "cell_type": "code",
   "execution_count": 11,
   "metadata": {},
   "outputs": [
    {
     "name": "stdout",
     "output_type": "stream",
     "text": [
      "       user_id  item_id  rating           timestamp\n",
      "0          196      242       3 1997-12-04 15:55:49\n",
      "1          186      302       3 1998-04-04 19:22:22\n",
      "2           22      377       1 1997-11-07 07:18:36\n",
      "3          244       51       2 1997-11-27 05:02:03\n",
      "4          166      346       1 1998-02-02 05:33:16\n",
      "...        ...      ...     ...                 ...\n",
      "99995      880      476       3 1997-11-22 05:10:44\n",
      "99996      716      204       5 1997-11-17 19:39:03\n",
      "99997      276     1090       1 1997-09-20 22:49:55\n",
      "99998       13      225       2 1997-12-17 22:52:36\n",
      "99999       12      203       3 1997-11-19 17:13:03\n",
      "\n",
      "[100000 rows x 4 columns]\n"
     ]
    }
   ],
   "source": [
    "movie_lens_rating_data = pd.read_csv('..\\\\data\\\\ml-100k\\\\u.data', sep='\\t', header = None, names = ['user_id', 'item_id', 'rating', 'timestamp'])\n",
    "movie_lens_rating_data['timestamp'] = pd.to_datetime(movie_lens_rating_data['timestamp'], unit='s', origin='unix')\n",
    "print(movie_lens_rating_data)"
   ]
  }
 ],
 "metadata": {
  "kernelspec": {
   "display_name": "Python 3.8.0 64-bit",
   "language": "python",
   "name": "python3"
  },
  "language_info": {
   "codemirror_mode": {
    "name": "ipython",
    "version": 3
   },
   "file_extension": ".py",
   "mimetype": "text/x-python",
   "name": "python",
   "nbconvert_exporter": "python",
   "pygments_lexer": "ipython3",
   "version": "3.8.0"
  },
  "orig_nbformat": 4,
  "vscode": {
   "interpreter": {
    "hash": "3477ec1e9823190bffa1d7db9687525a25c42b8a9f242854454b79972d700023"
   }
  }
 },
 "nbformat": 4,
 "nbformat_minor": 2
}
