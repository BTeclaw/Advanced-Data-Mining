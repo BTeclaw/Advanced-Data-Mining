{
 "cells": [
  {
   "cell_type": "code",
   "execution_count": 1,
   "metadata": {},
   "outputs": [
    {
     "ename": "ModuleNotFoundError",
     "evalue": "No module named 'scipy'",
     "output_type": "error",
     "traceback": [
      "\u001b[1;31m---------------------------------------------------------------------------\u001b[0m",
      "\u001b[1;31mModuleNotFoundError\u001b[0m                       Traceback (most recent call last)",
      "Cell \u001b[1;32mIn [1], line 1\u001b[0m\n\u001b[1;32m----> 1\u001b[0m \u001b[39mfrom\u001b[39;00m \u001b[39mscipy\u001b[39;00m \u001b[39mimport\u001b[39;00m spatial\n\u001b[0;32m      2\u001b[0m U1 \u001b[39m=\u001b[39m [\u001b[39m4\u001b[39m, \u001b[39m3\u001b[39m, \u001b[39m0\u001b[39m, \u001b[39m3\u001b[39m]\n\u001b[0;32m      3\u001b[0m U2 \u001b[39m=\u001b[39m [\u001b[39m2\u001b[39m, \u001b[39m2\u001b[39m, \u001b[39m4\u001b[39m, \u001b[39m2\u001b[39m]\n",
      "\u001b[1;31mModuleNotFoundError\u001b[0m: No module named 'scipy'"
     ]
    }
   ],
   "source": [
    "from scipy import spatial\n",
    "U1 = [4, 3, 0, 3]\n",
    "U2 = [2, 2, 4, 2]\n",
    "U3 = [3, 4, 5, 4]\n",
    "U4 = [5, 2, 4, 4]\n",
    "CosU1U2 = 1 - spatial.distance.cosine(U1, U2)\n",
    "CosU1U3 = 1 - spatial.distance.cosine(U1, U3)\n",
    "CosU1U4 = 1 - spatial.distance.cosine(U1, U4)\n",
    "print('Cosine similarity between User1 and User2 is ', CosU1U2)\n",
    "print('Cosine similarity between User1 and User3 is ', CosU1U3)\n",
    "print('Cosine similarity between User1 and User4 is ', CosU1U4)\n"
   ]
  },
  {
   "cell_type": "code",
   "execution_count": 2,
   "metadata": {},
   "outputs": [],
   "source": [
    "import pandas as pd\n",
    "import numpy as np\n",
    "ITEM_COUNT = 10\n",
    "ITEM_COLUMNS = []\n",
    "for i in range(ITEM_COUNT):\n",
    "    ITEM_COLUMNS.append('item' + str(i + 1))\n",
    "    pass\n",
    "user_ratings_df = pd.DataFrame(columns = ['user'] + ITEM_COLUMNS)\n",
    "user1 = pd.Series(['u1', 99, 10, 80, 50, 40, 34, 99, 23, 10, 17], index = ['user'] + ITEM_COLUMNS)\n",
    "user2 = pd.Series(['u2', 12, 80, 13, 87, 10, 93, 10, 80, 87, 90], index = ['user'] + ITEM_COLUMNS)\n",
    "user3 = pd.Series(['u3', 50, 55, 65, 75, 45, 48, 56, 52, 59, 62], index = ['user'] + ITEM_COLUMNS)\n",
    "user4 = pd.Series(['u4', 95, 12, 85, 49, 39, 32, 88, 12, 9, 21], index = ['user'] + ITEM_COLUMNS)\n",
    "user5 = pd.Series(['u5', 49, 65, 54, 49, 34, 65, 67, 48, 52, 59], index = ['user'] + ITEM_COLUMNS)\n",
    "user6 = pd.Series(['u6', 15, 90, 15, 95, 17, 94, 12, 85, 90, 93], index = ['user'] + ITEM_COLUMNS)\n",
    "user7 = pd.Series(['u7', 11, 89, 17, 93, 19, 92, 16, 94, 98, 92], index = ['user'] + ITEM_COLUMNS)\n",
    "user8 = pd.Series(['u8', 94, 11, 89, 48, 42, 30, 92, 16, 12, 25], index = ['user'] + ITEM_COLUMNS)\n",
    "user9 = pd.Series(['u9', 19, 88, 21, 98, 9, 90, 11, 97, 89, 86], index = ['user'] + ITEM_COLUMNS)\n",
    "user10 = pd.Series(['u10', 66, 43, 45, 34, 21, 45, 75, 32, 12, 55], index = ['user'] + ITEM_COLUMNS)\n",
    "kate = pd.Series(['Kate', np.NaN, 8, np.NaN, np.NaN, 90, np.NaN, np.NaN, np.NaN, 8, np.NaN], index = ['user'] + ITEM_COLUMNS)\n",
    "\n",
    "\n",
    "\n",
    "user_ratings_df = pd.concat([user_ratings_df, user1.to_frame().T, user2.to_frame().T, user3.to_frame().T, \\\n",
    "            user4.to_frame().T, user5.to_frame().T, user6.to_frame().T, user7.to_frame().T, \\\n",
    "            user8.to_frame().T, user9.to_frame().T, user10.to_frame().T,\n",
    "            kate.to_frame().T], ignore_index = True, axis = 0)"
   ]
  },
  {
   "cell_type": "code",
   "execution_count": 39,
   "metadata": {},
   "outputs": [
    {
     "name": "stdout",
     "output_type": "stream",
     "text": [
      "user      Kate\n",
      "item1      NaN\n",
      "item2        8\n",
      "item3      NaN\n",
      "item4      NaN\n",
      "item5       90\n",
      "item6      NaN\n",
      "item7      NaN\n",
      "item8      NaN\n",
      "item9        8\n",
      "item10     NaN\n",
      "Name: 10, dtype: object\n",
      "  user item1 item2 item3 item4 item5 item6 item7 item8 item9 item10\n",
      "0   u1    99    10    80    50    40    34    99    23    10     17\n",
      "1   u2    12    80    13    87    10    93    10    80    87     90\n",
      "2   u3    50    55    65    75    45    48    56    52    59     62\n",
      "3   u4    95    12    85    49    39    32    88    12     9     21\n",
      "4   u5    49    65    54    49    34    65    67    48    52     59\n",
      "5   u6    15    90    15    95    17    94    12    85    90     93\n",
      "6   u7    11    89    17    93    19    92    16    94    98     92\n",
      "7   u8    94    11    89    48    42    30    92    16    12     25\n",
      "8   u9    19    88    21    98     9    90    11    97    89     86\n",
      "9  u10    66    43    45    34    21    45    75    32    12     55\n"
     ]
    }
   ],
   "source": [
    "### Calculate Cosine similarities Kate vs other users TO DO at home ;) ###\n",
    "kate_entry = user_ratings_df[user_ratings_df['user'] == 'Kate'].iloc[0]\n",
    "other_users_entries = user_ratings_df[user_ratings_df['user'] != 'Kate']\n",
    "\n",
    "print(kate_entry)\n",
    "print(other_users_entries)\n",
    "\n",
    "def cosine_similarity(entry_1, entry_2):\n",
    "    entry_1_item_rating = np.nan_to_num(entry_1.to_list()[1:ITEM_COUNT + 1])\n",
    "    entry_2_item_rating = np.nan_to_num(entry_2.to_list()[1:ITEM_COUNT + 1])\n",
    "    #calculate dot product\n",
    "    #print(entry_1_item_rating)\n",
    "    entry_1_vector_length = 0\n",
    "    entry_2_vector_length = 0\n",
    "    dot_product = 0\n",
    "    for i in range(ITEM_COUNT):\n",
    "        dot_product += float(entry_1_item_rating[i]) * float(entry_2_item_rating[i])\n",
    "        entry_1_vector_length += float(entry_1_item_rating[i]) ** 2\n",
    "        entry_2_vector_length += float(entry_2_item_rating[i]) ** 2\n",
    "    entry_1_vector_length = np.sqrt(entry_1_vector_length)\n",
    "    entry_2_vector_length = np.sqrt(entry_2_vector_length)\n",
    "    return dot_product/(entry_1_vector_length * entry_2_vector_length)\n"
   ]
  },
  {
   "cell_type": "code",
   "execution_count": 40,
   "metadata": {},
   "outputs": [
    {
     "name": "stdout",
     "output_type": "stream",
     "text": [
      "  user item1 item2 item3 item4 item5 item6 item7 item8 item9 item10  \\\n",
      "0   u1    99    10    80    50    40    34    99    23    10     17   \n",
      "1   u2    12    80    13    87    10    93    10    80    87     90   \n",
      "2   u3    50    55    65    75    45    48    56    52    59     62   \n",
      "3   u4    95    12    85    49    39    32    88    12     9     21   \n",
      "4   u5    49    65    54    49    34    65    67    48    52     59   \n",
      "5   u6    15    90    15    95    17    94    12    85    90     93   \n",
      "6   u7    11    89    17    93    19    92    16    94    98     92   \n",
      "7   u8    94    11    89    48    42    30    92    16    12     25   \n",
      "8   u9    19    88    21    98     9    90    11    97    89     86   \n",
      "9  u10    66    43    45    34    21    45    75    32    12     55   \n",
      "\n",
      "   cosine similarity to Kate  \n",
      "0                   0.230728  \n",
      "1                   0.115946  \n",
      "2                   0.301729  \n",
      "3                   0.235083  \n",
      "4                   0.253071  \n",
      "5                   0.145245  \n",
      "6                   0.153575  \n",
      "7                   0.246872  \n",
      "8                   0.108477  \n",
      "9                   0.174494  \n"
     ]
    },
    {
     "name": "stderr",
     "output_type": "stream",
     "text": [
      "C:\\Users\\Plec\\AppData\\Local\\Temp\\ipykernel_9012\\2846360937.py:1: SettingWithCopyWarning: \n",
      "A value is trying to be set on a copy of a slice from a DataFrame.\n",
      "Try using .loc[row_indexer,col_indexer] = value instead\n",
      "\n",
      "See the caveats in the documentation: https://pandas.pydata.org/pandas-docs/stable/user_guide/indexing.html#returning-a-view-versus-a-copy\n",
      "  other_users_entries['cosine similarity to Kate'] = other_users_entries.apply(lambda entry: cosine_similarity(entry, kate_entry), axis = 1)\n"
     ]
    }
   ],
   "source": [
    "other_users_entries['cosine similarity to Kate'] = other_users_entries.apply(lambda entry: cosine_similarity(entry, kate_entry), axis = 1)\n",
    "print(other_users_entries)"
   ]
  },
  {
   "cell_type": "code",
   "execution_count": 82,
   "metadata": {},
   "outputs": [
    {
     "name": "stdout",
     "output_type": "stream",
     "text": [
      "['Kate', nan, 8, nan, nan, 90, nan, nan, nan, 8, nan]\n",
      "<class 'pandas.core.series.Series'>\n",
      "user           Kate\n",
      "item1     58.367451\n",
      "item2             8\n",
      "item3     56.032976\n",
      "item4     63.436699\n",
      "item5            90\n",
      "item6     55.915493\n",
      "item7     60.926558\n",
      "item8     46.854112\n",
      "item9             8\n",
      "item10    53.768693\n",
      "Name: 10, dtype: object\n"
     ]
    }
   ],
   "source": [
    "### Calculating missing items for Kate\n",
    "filled_kate_entry = kate_entry.copy()\n",
    "sum_of_cosine_similarities = sum(other_users_entries['cosine similarity to Kate'].to_list())\n",
    "print(kate_entry.to_list())\n",
    "print(type(filled_kate_entry))\n",
    "for i in range(ITEM_COUNT):\n",
    "    if np.isnan(kate_entry.to_list()[i + 1]):\n",
    "        predicted_rating = sum(other_users_entries.apply(lambda entry: entry[i + 1] * entry['cosine similarity to Kate'], axis = 1).to_list())/sum_of_cosine_similarities\n",
    "        filled_kate_entry[i+1] = predicted_rating\n",
    "\n",
    "\n",
    "\n"
   ]
  },
  {
   "cell_type": "code",
   "execution_count": 83,
   "metadata": {},
   "outputs": [
    {
     "name": "stdout",
     "output_type": "stream",
     "text": [
      "user           Kate\n",
      "item1     58.367451\n",
      "item2             8\n",
      "item3     56.032976\n",
      "item4     63.436699\n",
      "item5            90\n",
      "item6     55.915493\n",
      "item7     60.926558\n",
      "item8     46.854112\n",
      "item9             8\n",
      "item10    53.768693\n",
      "Name: 10, dtype: object\n"
     ]
    }
   ],
   "source": [
    "print(filled_kate_entry)"
   ]
  }
 ],
 "metadata": {
  "kernelspec": {
   "display_name": "Python 3.8.0 64-bit",
   "language": "python",
   "name": "python3"
  },
  "language_info": {
   "codemirror_mode": {
    "name": "ipython",
    "version": 3
   },
   "file_extension": ".py",
   "mimetype": "text/x-python",
   "name": "python",
   "nbconvert_exporter": "python",
   "pygments_lexer": "ipython3",
   "version": "3.8.0"
  },
  "orig_nbformat": 4,
  "vscode": {
   "interpreter": {
    "hash": "3477ec1e9823190bffa1d7db9687525a25c42b8a9f242854454b79972d700023"
   }
  }
 },
 "nbformat": 4,
 "nbformat_minor": 2
}
