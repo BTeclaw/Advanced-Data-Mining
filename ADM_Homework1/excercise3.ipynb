{
 "cells": [
  {
   "cell_type": "code",
   "execution_count": 84,
   "metadata": {},
   "outputs": [
    {
     "name": "stdout",
     "output_type": "stream",
     "text": [
      "Cosine similarity between User1 and User2 is  0.6482037235521644\n",
      "Cosine similarity between User1 and User3 is  0.7599605956573484\n",
      "Cosine similarity between User1 and User4 is  0.8344094626730117\n"
     ]
    }
   ],
   "source": [
    "from scipy import spatial\n",
    "U1 = [4, 3, 0, 3]\n",
    "U2 = [2, 2, 4, 2]\n",
    "U3 = [3, 4, 5, 4]\n",
    "U4 = [5, 2, 4, 4]\n",
    "CosU1U2 = 1 - spatial.distance.cosine(U1, U2)\n",
    "CosU1U3 = 1 - spatial.distance.cosine(U1, U3)\n",
    "CosU1U4 = 1 - spatial.distance.cosine(U1, U4)\n",
    "print('Cosine similarity between User1 and User2 is ', CosU1U2)\n",
    "print('Cosine similarity between User1 and User3 is ', CosU1U3)\n",
    "print('Cosine similarity between User1 and User4 is ', CosU1U4)\n"
   ]
  },
  {
   "cell_type": "code",
   "execution_count": 2,
   "metadata": {},
   "outputs": [],
   "source": [
    "import pandas as pd\n",
    "import numpy as np\n",
    "ITEM_COUNT = 10\n",
    "ITEM_COLUMNS = []\n",
    "for i in range(ITEM_COUNT):\n",
    "    ITEM_COLUMNS.append('item' + str(i + 1))\n",
    "    pass\n",
    "user_ratings_df = pd.DataFrame(columns = ['user'] + ITEM_COLUMNS)\n",
    "user1 = pd.Series(['u1', 99, 10, 80, 50, 40, 34, 99, 23, 10, 17], index = ['user'] + ITEM_COLUMNS)\n",
    "user2 = pd.Series(['u2', 12, 80, 13, 87, 10, 93, 10, 80, 87, 90], index = ['user'] + ITEM_COLUMNS)\n",
    "user3 = pd.Series(['u3', 50, 55, 65, 75, 45, 48, 56, 52, 59, 62], index = ['user'] + ITEM_COLUMNS)\n",
    "user4 = pd.Series(['u4', 95, 12, 85, 49, 39, 32, 88, 12, 9, 21], index = ['user'] + ITEM_COLUMNS)\n",
    "user5 = pd.Series(['u5', 49, 65, 54, 49, 34, 65, 67, 48, 52, 59], index = ['user'] + ITEM_COLUMNS)\n",
    "user6 = pd.Series(['u6', 15, 90, 15, 95, 17, 94, 12, 85, 90, 93], index = ['user'] + ITEM_COLUMNS)\n",
    "user7 = pd.Series(['u7', 11, 89, 17, 93, 19, 92, 16, 94, 98, 92], index = ['user'] + ITEM_COLUMNS)\n",
    "user8 = pd.Series(['u8', 94, 11, 89, 48, 42, 30, 92, 16, 12, 25], index = ['user'] + ITEM_COLUMNS)\n",
    "user9 = pd.Series(['u9', 19, 88, 21, 98, 9, 90, 11, 97, 89, 86], index = ['user'] + ITEM_COLUMNS)\n",
    "user10 = pd.Series(['u10', 66, 43, 45, 34, 21, 45, 75, 32, 12, 55], index = ['user'] + ITEM_COLUMNS)\n",
    "kate = pd.Series(['Kate', np.NaN, 8, np.NaN, np.NaN, 90, np.NaN, np.NaN, np.NaN, 8, np.NaN], index = ['user'] + ITEM_COLUMNS)\n",
    "\n",
    "\n",
    "\n",
    "user_ratings_df = pd.concat([user_ratings_df, user1.to_frame().T, user2.to_frame().T, user3.to_frame().T, \\\n",
    "            user4.to_frame().T, user5.to_frame().T, user6.to_frame().T, user7.to_frame().T, \\\n",
    "            user8.to_frame().T, user9.to_frame().T, user10.to_frame().T,\n",
    "            kate.to_frame().T], ignore_index = True, axis = 0)"
   ]
  },
  {
   "cell_type": "code",
   "execution_count": 37,
   "metadata": {},
   "outputs": [
    {
     "name": "stdout",
     "output_type": "stream",
     "text": [
      "user      Kate\n",
      "item1      NaN\n",
      "item2        8\n",
      "item3      NaN\n",
      "item4      NaN\n",
      "item5       90\n",
      "item6      NaN\n",
      "item7      NaN\n",
      "item8      NaN\n",
      "item9        8\n",
      "item10     NaN\n",
      "Name: 10, dtype: object\n",
      "  user item1 item2 item3 item4 item5 item6 item7 item8 item9 item10\n",
      "0   u1    99    10    80    50    40    34    99    23    10     17\n",
      "1   u2    12    80    13    87    10    93    10    80    87     90\n",
      "2   u3    50    55    65    75    45    48    56    52    59     62\n",
      "3   u4    95    12    85    49    39    32    88    12     9     21\n",
      "4   u5    49    65    54    49    34    65    67    48    52     59\n",
      "5   u6    15    90    15    95    17    94    12    85    90     93\n",
      "6   u7    11    89    17    93    19    92    16    94    98     92\n",
      "7   u8    94    11    89    48    42    30    92    16    12     25\n",
      "8   u9    19    88    21    98     9    90    11    97    89     86\n",
      "9  u10    66    43    45    34    21    45    75    32    12     55\n"
     ]
    }
   ],
   "source": [
    "### Calculate Cosine similarities Kate vs other users TO DO at home ;) ###\n",
    "kate_entry = user_ratings_df[user_ratings_df['user'] == 'Kate'].iloc[0]\n",
    "other_users_entries = user_ratings_df[user_ratings_df['user'] != 'Kate']\n",
    "\n",
    "print(kate_entry)\n",
    "print(other_users_entries)\n",
    "\n",
    "def cosine_similarity(item_ratings1, item_ratings2):\n",
    "    #calculate dot product\n",
    "    entry_1_vector_length = 0\n",
    "    entry_2_vector_length = 0\n",
    "    dot_product = 0\n",
    "    for i in range(len(item_ratings1)):\n",
    "        #print(item_ratings1[i])\n",
    "        dot_product += float(item_ratings1[i]) * float(item_ratings2[i])\n",
    "        entry_1_vector_length += float(item_ratings1[i]) ** 2\n",
    "        entry_2_vector_length += float(item_ratings2[i]) ** 2\n",
    "    entry_1_vector_length = np.sqrt(entry_1_vector_length)\n",
    "    entry_2_vector_length = np.sqrt(entry_2_vector_length)\n",
    "    return dot_product/(entry_1_vector_length * entry_2_vector_length)\n"
   ]
  },
  {
   "cell_type": "code",
   "execution_count": 38,
   "metadata": {},
   "outputs": [
    {
     "name": "stdout",
     "output_type": "stream",
     "text": [
      "  user  cosine similarity to Kate\n",
      "0   u1                   0.977022\n",
      "1   u2                   0.207823\n",
      "2   u3                   0.592256\n",
      "3   u4                   0.970381\n",
      "4   u5                   0.489935\n",
      "5   u6                   0.254984\n",
      "6   u7                   0.264277\n",
      "7   u8                   0.970165\n",
      "8   u9                   0.195566\n",
      "9  u10                   0.520653\n"
     ]
    },
    {
     "name": "stderr",
     "output_type": "stream",
     "text": [
      "C:\\Users\\Plec\\AppData\\Local\\Temp\\ipykernel_19024\\1045501999.py:2: SettingWithCopyWarning: \n",
      "A value is trying to be set on a copy of a slice from a DataFrame.\n",
      "Try using .loc[row_indexer,col_indexer] = value instead\n",
      "\n",
      "See the caveats in the documentation: https://pandas.pydata.org/pandas-docs/stable/user_guide/indexing.html#returning-a-view-versus-a-copy\n",
      "  other_users_entries['cosine similarity to Kate'] = other_users_entries.apply(lambda entry: cosine_similarity(entry[unfilled_kate_entries_indexes], kate_entry[unfilled_kate_entries_indexes]), axis = 1)\n"
     ]
    }
   ],
   "source": [
    "unfilled_kate_entries_indexes = [i for i, x in enumerate(np.nan_to_num(kate_entry.to_list())) if  x.isnumeric()]\n",
    "other_users_entries['cosine similarity to Kate'] = other_users_entries.apply(lambda entry: cosine_similarity(entry[unfilled_kate_entries_indexes], kate_entry[unfilled_kate_entries_indexes]), axis = 1)\n",
    "print(other_users_entries[['user', 'cosine similarity to Kate']])"
   ]
  },
  {
   "cell_type": "code",
   "execution_count": 42,
   "metadata": {},
   "outputs": [
    {
     "name": "stdout",
     "output_type": "stream",
     "text": [
      "['Kate', nan, 8, nan, nan, 90, nan, nan, nan, 8, nan]\n",
      "<class 'pandas.core.series.Series'>\n"
     ]
    }
   ],
   "source": [
    "### Calculating missing items for Kate\n",
    "filled_kate_entry = kate_entry.copy()\n",
    "sum_of_cosine_similarities = sum(other_users_entries['cosine similarity to Kate'].to_list())\n",
    "print(kate_entry.to_list())\n",
    "print(type(filled_kate_entry))\n",
    "for i in range(ITEM_COUNT):\n",
    "    if np.isnan(kate_entry.to_list()[i + 1]):\n",
    "        predicted_rating = sum(other_users_entries.apply(lambda entry: entry[i + 1] * entry['cosine similarity to Kate'], axis = 1).to_list())/sum_of_cosine_similarities\n",
    "        filled_kate_entry[i+1] = predicted_rating\n",
    "\n",
    "\n",
    "\n"
   ]
  },
  {
   "cell_type": "code",
   "execution_count": 43,
   "metadata": {},
   "outputs": [
    {
     "name": "stdout",
     "output_type": "stream",
     "text": [
      "user           Kate\n",
      "item1     70.003075\n",
      "item2             8\n",
      "item3     64.393431\n",
      "item4     57.898145\n",
      "item5            90\n",
      "item6     48.187906\n",
      "item7     71.271021\n",
      "item8     37.244696\n",
      "item9             8\n",
      "item10    43.918874\n",
      "Name: 10, dtype: object\n"
     ]
    }
   ],
   "source": [
    "print(filled_kate_entry)"
   ]
  }
 ],
 "metadata": {
  "kernelspec": {
   "display_name": "Python 3.8.0 64-bit",
   "language": "python",
   "name": "python3"
  },
  "language_info": {
   "codemirror_mode": {
    "name": "ipython",
    "version": 3
   },
   "file_extension": ".py",
   "mimetype": "text/x-python",
   "name": "python",
   "nbconvert_exporter": "python",
   "pygments_lexer": "ipython3",
   "version": "3.8.0"
  },
  "orig_nbformat": 4,
  "vscode": {
   "interpreter": {
    "hash": "3477ec1e9823190bffa1d7db9687525a25c42b8a9f242854454b79972d700023"
   }
  }
 },
 "nbformat": 4,
 "nbformat_minor": 2
}
