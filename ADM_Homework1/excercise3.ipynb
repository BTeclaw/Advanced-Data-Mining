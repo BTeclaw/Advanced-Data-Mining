{
 "cells": [
  {
   "cell_type": "code",
   "execution_count": null,
   "metadata": {},
   "outputs": [],
   "source": [
    "from scipy import spatial\n",
    "U1 = [4, 3, 0, 3]\n",
    "U2 = [2, 2, 4, 2]\n",
    "U3 = [3, 4, 5, 4]\n",
    "U4 = [5, 2, 4, 4]\n",
    "CosU1U2 = 1 - spatial.distance.cosine(U1, U2)\n",
    "CosU1U3 = 1 - spatial.distance.cosine(U1, U3)\n",
    "CosU1U4 = 1 - spatial.distance.cosine(U1, U4)\n",
    "print('Cosine similarity between User1 and User2 is ', CosU1U2)\n",
    "print('Cosine similarity between User1 and User3 is ', CosU1U3)\n",
    "print('Cosine similarity between User1 and User4 is ', CosU1U4)\n"
   ]
  }
 ],
 "metadata": {
  "language_info": {
   "name": "python"
  },
  "orig_nbformat": 4
 },
 "nbformat": 4,
 "nbformat_minor": 2
}
