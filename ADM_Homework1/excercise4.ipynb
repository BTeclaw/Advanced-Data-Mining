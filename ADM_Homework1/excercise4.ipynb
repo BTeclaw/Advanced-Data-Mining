{
 "cells": [
  {
   "cell_type": "code",
   "execution_count": 4,
   "metadata": {},
   "outputs": [
    {
     "name": "stdout",
     "output_type": "stream",
     "text": [
      "  user item1 item2 item3 item4 item5 item6 item7 item8 item9 item10\n",
      "0   u1    99    10    80    50    40    34    99    23    10     17\n",
      "1   u2    12    80    13    87    10    93    10    80    87     90\n",
      "2   u3    50    55    65    75    45    48    56    52    59     62\n",
      "3   u4    95    12    85    49    39    32    88    12     9     21\n",
      "4   u5    49    65    54    49    34    65    67    48    52     59\n",
      "5   u6    15    90    15    95    17    94    12    85    90     93\n",
      "6   u7    11    89    17    93    19    92    16    94    98     92\n",
      "7   u8    94    11    89    48    42    30    92    16    12     25\n",
      "8   u9    19    88    21    98     9    90    11    97    89     86\n",
      "9  u10    66    43    45    34    21    45    75    32    12     55\n"
     ]
    }
   ],
   "source": [
    "import pandas as pd\n",
    "import numpy as np\n",
    "\n",
    "ITEM_COUNT = 10\n",
    "ITEM_COLUMNS = []\n",
    "\n",
    "for i in range(ITEM_COUNT):\n",
    "    ITEM_COLUMNS.append('item' + str(i + 1))\n",
    "    pass\n",
    "user_ratings_df = pd.DataFrame(columns = ['user'] + ITEM_COLUMNS)\n",
    "user1 = pd.Series(['u1', 99, 10, 80, 50, 40, 34, 99, 23, 10, 17], index = ['user'] + ITEM_COLUMNS)\n",
    "user2 = pd.Series(['u2', 12, 80, 13, 87, 10, 93, 10, 80, 87, 90], index = ['user'] + ITEM_COLUMNS)\n",
    "user3 = pd.Series(['u3', 50, 55, 65, 75, 45, 48, 56, 52, 59, 62], index = ['user'] + ITEM_COLUMNS)\n",
    "user4 = pd.Series(['u4', 95, 12, 85, 49, 39, 32, 88, 12, 9, 21], index = ['user'] + ITEM_COLUMNS)\n",
    "user5 = pd.Series(['u5', 49, 65, 54, 49, 34, 65, 67, 48, 52, 59], index = ['user'] + ITEM_COLUMNS)\n",
    "user6 = pd.Series(['u6', 15, 90, 15, 95, 17, 94, 12, 85, 90, 93], index = ['user'] + ITEM_COLUMNS)\n",
    "user7 = pd.Series(['u7', 11, 89, 17, 93, 19, 92, 16, 94, 98, 92], index = ['user'] + ITEM_COLUMNS)\n",
    "user8 = pd.Series(['u8', 94, 11, 89, 48, 42, 30, 92, 16, 12, 25], index = ['user'] + ITEM_COLUMNS)\n",
    "user9 = pd.Series(['u9', 19, 88, 21, 98, 9, 90, 11, 97, 89, 86], index = ['user'] + ITEM_COLUMNS)\n",
    "user10 = pd.Series(['u10', 66, 43, 45, 34, 21, 45, 75, 32, 12, 55], index = ['user'] + ITEM_COLUMNS)\n",
    "\n",
    "user_ratings_df = pd.concat([user_ratings_df, user1.to_frame().T, user2.to_frame().T, user3.to_frame().T, \\\n",
    "            user4.to_frame().T, user5.to_frame().T, user6.to_frame().T, user7.to_frame().T, \\\n",
    "            user8.to_frame().T, user9.to_frame().T, user10.to_frame().T], \\\n",
    "            ignore_index = True, axis = 0)\n",
    "\n",
    "print(user_ratings_df)"
   ]
  },
  {
   "cell_type": "code",
   "execution_count": 23,
   "metadata": {},
   "outputs": [
    {
     "name": "stdout",
     "output_type": "stream",
     "text": [
      "user      John\n",
      "item1      0.0\n",
      "item2      0.0\n",
      "item3      0.0\n",
      "item4      0.0\n",
      "item5      0.0\n",
      "item6      0.0\n",
      "item7      0.0\n",
      "item8      0.0\n",
      "item9      0.0\n",
      "item10     0.0\n",
      "dtype: object\n",
      "user      John\n",
      "item1     51.0\n",
      "item2     54.3\n",
      "item3     48.4\n",
      "item4     67.8\n",
      "item5     27.6\n",
      "item6     62.3\n",
      "item7     52.6\n",
      "item8     53.9\n",
      "item9     51.8\n",
      "item10    60.0\n",
      "dtype: object\n"
     ]
    }
   ],
   "source": [
    "### Simple approach - calculate averages from all users and use it to propose it to John\n",
    "john_entry = pd.Series(['John'] + np.empty(ITEM_COUNT).tolist(), index = ['user'] + ITEM_COLUMNS)\n",
    "print(john_entry)\n",
    "\n",
    "for i in range(ITEM_COUNT):\n",
    "    john_entry[i+1] = np.average(user_ratings_df.iloc[:, i + 1]) \n",
    "\n",
    "print(john_entry)"
   ]
  },
  {
   "cell_type": "code",
   "execution_count": 61,
   "metadata": {},
   "outputs": [
    {
     "name": "stdout",
     "output_type": "stream",
     "text": [
      "  user item1 item2 item3 item4 item5 item6 item7 item8 item9 item10  \\\n",
      "0   u1    99    10    80    50    40    34    99    23    10     17   \n",
      "1   u2    12    80    13    87    10    93    10    80    87     90   \n",
      "2   u3    50    55    65    75    45    48    56    52    59     62   \n",
      "3   u4    95    12    85    49    39    32    88    12     9     21   \n",
      "4   u5    49    65    54    49    34    65    67    48    52     59   \n",
      "5   u6    15    90    15    95    17    94    12    85    90     93   \n",
      "6   u7    11    89    17    93    19    92    16    94    98     92   \n",
      "7   u8    94    11    89    48    42    30    92    16    12     25   \n",
      "8   u9    19    88    21    98     9    90    11    97    89     86   \n",
      "9  u10    66    43    45    34    21    45    75    32    12     55   \n",
      "\n",
      "    latitude   longitude  similarity_to_John  \n",
      "0 -18.257841  -77.766464           -0.983686  \n",
      "1  81.417865  -49.532235            0.983686  \n",
      "2  57.137546 -120.042124           -0.983686  \n",
      "3  13.287418  -24.407492           -0.983686  \n",
      "4  85.224061   36.630545            0.983686  \n",
      "5  78.989406  120.212044           -0.983686  \n",
      "6  54.108438 -172.410539            0.983686  \n",
      "7 -73.415753  178.485516            0.983686  \n",
      "8 -23.772385   -4.344374            0.983686  \n",
      "9 -63.636912   15.649434            0.983686  \n",
      "user               John\n",
      "item1              51.0\n",
      "item2              54.3\n",
      "item3              48.4\n",
      "item4              67.8\n",
      "item5              27.6\n",
      "item6              62.3\n",
      "item7              52.6\n",
      "item8              53.9\n",
      "item9              51.8\n",
      "item10             60.0\n",
      "latitude     -89.524217\n",
      "longitude   -107.125043\n",
      "dtype: object\n"
     ]
    }
   ],
   "source": [
    "### Assume we've got information about user location, from registration log and IP localization for example(in form of latitude and longitude)\n",
    "generated_coords = np.random.rand(10, 2) * [180, 360]  - [90, 180]\n",
    "john_coords = np.random.rand(1, 2) * [180, 360]  - [90, 180]\n",
    "user_ratings_df['latitude'] = generated_coords[:, 0]\n",
    "user_ratings_df['longitude'] = generated_coords[:, 1]\n",
    "john_entry['latitude'] = john_coords[:, 0][0]\n",
    "john_entry['longitude'] = john_coords[:, 1][0]\n",
    "print(user_ratings_df)\n",
    "print(john_entry)"
   ]
  },
  {
   "cell_type": "code",
   "execution_count": 62,
   "metadata": {},
   "outputs": [
    {
     "name": "stdout",
     "output_type": "stream",
     "text": [
      "  user item1 item2 item3 item4 item5 item6 item7 item8 item9 item10  \\\n",
      "0   u1    99    10    80    50    40    34    99    23    10     17   \n",
      "1   u2    12    80    13    87    10    93    10    80    87     90   \n",
      "2   u3    50    55    65    75    45    48    56    52    59     62   \n",
      "3   u4    95    12    85    49    39    32    88    12     9     21   \n",
      "4   u5    49    65    54    49    34    65    67    48    52     59   \n",
      "5   u6    15    90    15    95    17    94    12    85    90     93   \n",
      "6   u7    11    89    17    93    19    92    16    94    98     92   \n",
      "7   u8    94    11    89    48    42    30    92    16    12     25   \n",
      "8   u9    19    88    21    98     9    90    11    97    89     86   \n",
      "9  u10    66    43    45    34    21    45    75    32    12     55   \n",
      "\n",
      "    latitude   longitude  similarity_to_John  \n",
      "0 -18.257841  -77.766464            0.893583  \n",
      "1  81.417865  -49.532235           -0.149024  \n",
      "2  57.137546 -120.042124            0.417250  \n",
      "3  13.287418  -24.407492            0.367325  \n",
      "4  85.224061   36.630545           -0.892146  \n",
      "5  78.989406  120.212044           -0.993418  \n",
      "6  54.108438 -172.410539            0.540106  \n",
      "7 -73.415753  178.485516           -0.465706  \n",
      "8 -23.772385   -4.344374            0.768751  \n",
      "9 -63.636912   15.649434            0.439462  \n"
     ]
    }
   ],
   "source": [
    "### Now let's calculate the cosine similarity of the location and based upon it, calculate potential ratings \n",
    "from scipy import spatial\n",
    "user_ratings_df['similarity_to_John'] = user_ratings_df.apply(lambda entry: 1 - spatial.distance.cosine([entry['longitude'], entry['latitude']], [john_entry['longitude'], john_entry['latitude']]), axis=1)\n",
    "print(user_ratings_df)"
   ]
  },
  {
   "cell_type": "code",
   "execution_count": null,
   "metadata": {},
   "outputs": [],
   "source": []
  }
 ],
 "metadata": {
  "kernelspec": {
   "display_name": "Python 3.8.0 64-bit",
   "language": "python",
   "name": "python3"
  },
  "language_info": {
   "codemirror_mode": {
    "name": "ipython",
    "version": 3
   },
   "file_extension": ".py",
   "mimetype": "text/x-python",
   "name": "python",
   "nbconvert_exporter": "python",
   "pygments_lexer": "ipython3",
   "version": "3.8.0"
  },
  "orig_nbformat": 4,
  "vscode": {
   "interpreter": {
    "hash": "3477ec1e9823190bffa1d7db9687525a25c42b8a9f242854454b79972d700023"
   }
  }
 },
 "nbformat": 4,
 "nbformat_minor": 2
}
